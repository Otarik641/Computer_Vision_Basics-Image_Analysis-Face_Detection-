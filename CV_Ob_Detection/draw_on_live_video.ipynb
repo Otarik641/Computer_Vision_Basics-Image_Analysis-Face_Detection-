{
 "cells": [
  {
   "cell_type": "code",
   "execution_count": 1,
   "metadata": {},
   "outputs": [],
   "source": [
    "#import libraries\n",
    "\n",
    "import cv2"
   ]
  },
  {
   "cell_type": "code",
   "execution_count": 2,
   "metadata": {},
   "outputs": [],
   "source": [
    "#Taek a video=0 means the camera of my computer\n",
    "cap = cv2.VideoCapture(0)"
   ]
  },
  {
   "cell_type": "code",
   "execution_count": 3,
   "metadata": {},
   "outputs": [],
   "source": [
    "#Get the Width and Height of the video Frame\n",
    "width = int(cap.get(cv2.CAP_PROP_FRAME_WIDTH))\n",
    "height = int(cap.get(cv2.CAP_PROP_FRAME_HEIGHT))"
   ]
  },
  {
   "cell_type": "code",
   "execution_count": 4,
   "metadata": {},
   "outputs": [],
   "source": [
    "#top left corner\n",
    "#we divide with // the width and height of the frame\n",
    "#in order to get an integer as a result\n",
    "\n",
    "x = width // 2\n",
    "y = height // 2\n",
    "\n",
    "#rectangle width and height\n",
    "#1/4 of the Actual video Screen\n",
    "\n",
    "w = width // 4\n",
    "h = height // 4\n",
    "\n",
    "#bottom right corner ==x+w, y+h\n",
    "\n",
    "\n",
    "#Get ready to do magic\n",
    "\n",
    "while True:\n",
    "    ret, frame = cap.read()\n",
    "    \n",
    "    #rectangle frame\n",
    "    cv2.rectangle(frame, (x,y),\n",
    "                 (x+w, y+h),\n",
    "                 color=(255,0,255),\n",
    "                 thickness=5)\n",
    "    \n",
    "    #show it\n",
    "    cv2.imshow('frame', frame)\n",
    "    \n",
    "    \n",
    "    # 27 ==esc button. You can use any other button like ord('q')\n",
    "    #if you try to close the window pressing the x you ll get in trouble\n",
    "    if cv2.waitKey(5) & 0xFF == 27:\n",
    "        break\n",
    "    \n",
    "    \n",
    "#Never forget first to release\n",
    "#and then to destroy\n",
    "cap.release()\n",
    "cv2.destroyAllWindows()\n",
    "\n"
   ]
  },
  {
   "cell_type": "code",
   "execution_count": null,
   "metadata": {},
   "outputs": [],
   "source": []
  }
 ],
 "metadata": {
  "kernelspec": {
   "display_name": "Python 3",
   "language": "python",
   "name": "python3"
  },
  "language_info": {
   "codemirror_mode": {
    "name": "ipython",
    "version": 3
   },
   "file_extension": ".py",
   "mimetype": "text/x-python",
   "name": "python",
   "nbconvert_exporter": "python",
   "pygments_lexer": "ipython3",
   "version": "3.7.4"
  }
 },
 "nbformat": 4,
 "nbformat_minor": 2
}
