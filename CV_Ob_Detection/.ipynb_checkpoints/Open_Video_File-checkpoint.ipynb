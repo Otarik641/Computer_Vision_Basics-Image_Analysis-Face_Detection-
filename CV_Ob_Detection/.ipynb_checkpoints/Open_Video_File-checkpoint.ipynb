{
 "cells": [
  {
   "cell_type": "code",
   "execution_count": 2,
   "metadata": {},
   "outputs": [],
   "source": [
    "import cv2"
   ]
  },
  {
   "cell_type": "code",
   "execution_count": 3,
   "metadata": {},
   "outputs": [],
   "source": [
    "cap = cv2.VideoCapture('myvideo.mkv')"
   ]
  },
  {
   "cell_type": "code",
   "execution_count": 4,
   "metadata": {},
   "outputs": [],
   "source": [
    "#in case we wrote the path wrong\n",
    "\n",
    "if cap.isOpened() == False:\n",
    "    print('Error check your path')\n",
    "    \n",
    "    \n",
    "while cap.isOpened():\n",
    "    \n",
    "    ret, frame = cap.read()\n",
    "    \n",
    "    if ret == True:\n",
    "    \n",
    "    #we wrote it with 20 fps on the previous lesson\n",
    "    #so, we need a delay of 1/20 if we want to see it\n",
    "    #uncomment the line below if you want to see it\n",
    "    #time.sleep(1/20)\n",
    "        \n",
    "        #show it\n",
    "        cv2.imshow('frame', frame)\n",
    "        \n",
    "        \n",
    "         \n",
    "        if cv2.waitKey(15) & 0xFF == 27:\n",
    "            break\n",
    "            \n",
    "            \n",
    "#Never forget first to release\n",
    "#and then to destroy\n",
    "cap.release()\n",
    "cv2.destroyAllWindows()\n",
    "    \n",
    "    "
   ]
  },
  {
   "cell_type": "code",
   "execution_count": null,
   "metadata": {},
   "outputs": [],
   "source": []
  }
 ],
 "metadata": {
  "kernelspec": {
   "display_name": "Python 3",
   "language": "python",
   "name": "python3"
  },
  "language_info": {
   "codemirror_mode": {
    "name": "ipython",
    "version": 3
   },
   "file_extension": ".py",
   "mimetype": "text/x-python",
   "name": "python",
   "nbconvert_exporter": "python",
   "pygments_lexer": "ipython3",
   "version": "3.7.4"
  }
 },
 "nbformat": 4,
 "nbformat_minor": 2
}
