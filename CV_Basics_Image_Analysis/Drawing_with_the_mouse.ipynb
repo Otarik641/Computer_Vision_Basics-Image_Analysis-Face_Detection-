{
 "cells": [
  {
   "cell_type": "code",
   "execution_count": 1,
   "metadata": {},
   "outputs": [],
   "source": [
    "#import libraries\n",
    "import cv2\n",
    "import numpy as np\n",
    "\n",
    "#function\n",
    "#x,y, flags, params are feed from OpenCV automatically\n",
    "\n",
    "def draw_circles(event, x, y, flags, param):\n",
    "    if event == cv2.EVENT_LBUTTONDOWN:\n",
    "        cv2.circle(img,\n",
    "                  (x,y),\n",
    "                  70,\n",
    "                  (35,69,78),\n",
    "                  -1)\n",
    "        \n",
    "#connect the functions with the callbacks\n",
    "cv2.namedWindow(winname=\"My_Drawing\")\n",
    "\n",
    "#callbacks\n",
    "\n",
    "cv2.setMouseCallback(\"My_Drawing\", draw_circles)\n",
    "\n",
    "#Using OpenCV to show the Image\n",
    "\n",
    "img = np.zeros((512,512,3),\n",
    "              np.int8)\n",
    "\n",
    "while True:\n",
    "    \n",
    "    cv2.imshow(\"My_Drawing\", img)\n",
    "    \n",
    "    if cv2.waitKey(5) & 0xFF ==27:\n",
    "        break\n",
    "        \n",
    "cv2.destroyAllWindows()"
   ]
  }
 ],
 "metadata": {
  "kernelspec": {
   "display_name": "Python 3",
   "language": "python",
   "name": "python3"
  },
  "language_info": {
   "codemirror_mode": {
    "name": "ipython",
    "version": 3
   },
   "file_extension": ".py",
   "mimetype": "text/x-python",
   "name": "python",
   "nbconvert_exporter": "python",
   "pygments_lexer": "ipython3",
   "version": "3.7.4"
  }
 },
 "nbformat": 4,
 "nbformat_minor": 2
}
